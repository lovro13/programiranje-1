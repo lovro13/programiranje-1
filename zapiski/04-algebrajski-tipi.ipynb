<<<<<<< HEAD
{
  "cells": [
    {
      "cell_type": "markdown",
      "metadata": {},
      "source": [
        "# Lastni tipi"
      ]
    },
    {
      "cell_type": "markdown",
      "metadata": {},
      "source": [
        "Poleg bogatega nabora vgrajenih tipov si tipe v OCamlu lahko definiramo tudi sami."
      ]
    },
    {
      "cell_type": "markdown",
      "metadata": {
        "slideshow": {
          "slide_type": "slide"
        }
      },
      "source": [
        "## Zapisni tipi"
      ]
    },
    {
      "cell_type": "markdown",
      "metadata": {
        "slideshow": {
          "slide_type": "slide"
        }
      },
      "source": [
        "### Za tipe si lahko definiramo **okrajšave**"
      ]
    },
    {
      "cell_type": "markdown",
      "metadata": {},
      "source": [
        "Najenostavnejši način za definicijo tipov so okrajšave obstoječih tipov. Na primer, tip za $\\mathbb{R}^3$ si lahko definiramo kot:"
      ]
    },
    {
      "cell_type": "code",
      "execution_count": 1,
      "metadata": {
        "slideshow": {
          "slide_type": "fragment"
        },
        "vscode": {
          "languageId": "ocaml"
        }
      },
      "outputs": [
        {
          "data": {
            "text/plain": [
              "type r3 = float * float * float\n"
            ]
          },
          "execution_count": 1,
          "metadata": {},
          "output_type": "execute_result"
        }
      ],
      "source": [
        "type r3 = float * float * float"
      ]
    },
    {
      "cell_type": "code",
      "execution_count": 5,
      "metadata": {
        "slideshow": {
          "slide_type": "fragment"
        },
        "vscode": {
          "languageId": "ocaml"
        }
      },
      "outputs": [
        {
          "data": {
            "text/plain": [
              "val vsota_r3 : r3 -> r3 -> r3 = <fun>\n"
            ]
          },
          "execution_count": 5,
          "metadata": {},
          "output_type": "execute_result"
        }
      ],
      "source": [
        "let vsota_r3 ((x1, y1, z1) : r3) ((x2, y2, z2) : r3) : r3 =\n",
        "  (x1 +. x2, y1 +. y2, z1 +. z2)"
      ]
    },
    {
      "cell_type": "code",
      "execution_count": 6,
      "metadata": {
        "slideshow": {
          "slide_type": "fragment"
        },
        "vscode": {
          "languageId": "ocaml"
        }
      },
      "outputs": [
        {
          "data": {
            "text/plain": [
              "val vsota_r3' : r3 -> r3 -> r3 = <fun>\n"
            ]
          },
          "execution_count": 6,
          "metadata": {},
          "output_type": "execute_result"
        }
      ],
      "source": [
        "let vsota_r3' : r3 -> r3 -> r3 =\n",
        " fun (x1, y1, z1) (x2, y2, z2) -> (x1 +. x2, y1 +. y2, z1 +. z2)"
      ]
    },
    {
      "cell_type": "markdown",
      "metadata": {
        "slideshow": {
          "slide_type": "slide"
        }
      },
      "source": [
        "### **Zapisni tip** podamo z zahtevanimi polji"
      ]
    },
    {
      "cell_type": "markdown",
      "metadata": {},
      "source": [
        "Recimo, da si definiramo datume s trojicami celih števil."
      ]
    },
    {
      "cell_type": "code",
      "execution_count": 7,
      "metadata": {
        "slideshow": {
          "slide_type": "fragment"
        },
        "vscode": {
          "languageId": "ocaml"
        }
      },
      "outputs": [
        {
          "data": {
            "text/plain": [
              "type datum = int * int * int\n"
            ]
          },
          "execution_count": 7,
          "metadata": {},
          "output_type": "execute_result"
        }
      ],
      "source": [
        "type datum = int * int * int"
      ]
    },
    {
      "cell_type": "markdown",
      "metadata": {},
      "source": [
        "Kateri vrstni red smo uporabili: dan, mesec, leto, kot smo navajeni v Sloveniji, ali leto, mesec, dan, kot je mednarodni standard? Mogoče celo mesec, dan, leto, kot je navada v Združenih državah?\n",
        "\n",
        "Zmešnjavi se lahko izognemo, če komponente poimenujemo. V OCamlu to storimo z zapisnimi tipi, ki jih podamo tako, da naštejemo imena polj ter njihove tipe:"
      ]
    },
    {
      "cell_type": "code",
      "execution_count": 1,
      "metadata": {
        "slideshow": {
          "slide_type": "fragment"
        },
        "vscode": {
          "languageId": "ocaml"
        }
      },
      "outputs": [
        {
          "data": {
            "text/plain": [
              "type datum = { dan : int; mesec : int; leto : int; }\n"
            ]
          },
          "execution_count": 1,
          "metadata": {},
          "output_type": "execute_result"
        }
      ],
      "source": [
        "type datum = { dan : int; mesec : int; leto : int }"
      ]
    },
    {
      "cell_type": "markdown",
      "metadata": {},
      "source": [
        "Vrednosti tipov pišemo podobno, le da jih podamo z `=`:"
      ]
    },
    {
      "cell_type": "code",
      "execution_count": 9,
      "metadata": {
        "slideshow": {
          "slide_type": "fragment"
        },
        "vscode": {
          "languageId": "ocaml"
        }
      },
      "outputs": [
        {
          "data": {
            "text/plain": [
              "val osamosvojitev : datum = {dan = 25; mesec = 6; leto = 1991}\n"
            ]
          },
          "execution_count": 9,
          "metadata": {},
          "output_type": "execute_result"
        }
      ],
      "source": [
        "let osamosvojitev = { dan = 25; mesec = 6; leto = 1991 }"
      ]
    },
    {
      "cell_type": "markdown",
      "metadata": {
        "slideshow": {
          "slide_type": "slide"
        }
      },
      "source": [
        "### Do polj lahko dostopamo prek **projekcij**"
      ]
    },
    {
      "cell_type": "markdown",
      "metadata": {},
      "source": [
        "Do posameznih komponent dostopamo z `zapis.ime_polja`:"
      ]
    },
    {
      "cell_type": "code",
      "execution_count": 10,
      "metadata": {
        "slideshow": {
          "slide_type": "fragment"
        },
        "vscode": {
          "languageId": "ocaml"
        }
      },
      "outputs": [
        {
          "data": {
            "text/plain": [
              "val je_prestopno : int -> bool = <fun>\n"
            ]
          },
          "execution_count": 10,
          "metadata": {},
          "output_type": "execute_result"
        },
        {
          "data": {
            "text/plain": [
              "val dolzina_meseca : int -> int -> int = <fun>\n"
            ]
          },
          "execution_count": 10,
          "metadata": {},
          "output_type": "execute_result"
        }
      ],
      "source": [
        "let je_prestopno leto =\n",
        "  (leto mod 4 = 0 && leto mod 100 <> 0) || leto mod 400 = 0\n",
        "  \n",
        "let dolzina_meseca leto =\n",
        "  function\n",
        "  | 4 | 6 | 9 | 11 -> 30\n",
        "  | 2 -> if je_prestopno leto then 29 else 28\n",
        "  | _ -> 31"
      ]
    },
    {
      "cell_type": "code",
      "execution_count": 11,
      "metadata": {
        "slideshow": {
          "slide_type": "fragment"
        },
        "vscode": {
          "languageId": "ocaml"
        }
      },
      "outputs": [
        {
          "data": {
            "text/plain": [
              "val je_veljaven : datum -> bool = <fun>\n"
            ]
          },
          "execution_count": 11,
          "metadata": {},
          "output_type": "execute_result"
        }
      ],
      "source": [
        "let je_veljaven datum =\n",
        "  let veljaven_dan = 1 <= datum.dan && datum.dan <= dolzina_meseca datum.leto datum.mesec\n",
        "  and veljaven_mesec = 1 <= datum.mesec && datum.mesec <= 12\n",
        "  in\n",
        "  veljaven_dan && veljaven_mesec"
      ]
    },
    {
      "cell_type": "markdown",
      "metadata": {
        "slideshow": {
          "slide_type": "slide"
        }
      },
      "source": [
        "### Zapise lahko **razstavljamo** tudi prek vzorcev"
      ]
    },
    {
      "cell_type": "code",
      "execution_count": 12,
      "metadata": {
        "slideshow": {
          "slide_type": "fragment"
        },
        "vscode": {
          "languageId": "ocaml"
        }
      },
      "outputs": [
        {
          "data": {
            "text/plain": [
              "val je_veljaven : datum -> bool = <fun>\n"
            ]
          },
          "execution_count": 12,
          "metadata": {},
          "output_type": "execute_result"
        }
      ],
      "source": [
        "let je_veljaven {dan = d; mesec = m; leto = l} =\n",
        "  let veljaven_dan = 1 <= d && d <= dolzina_meseca l m\n",
        "  and veljaven_mesec = 1 <= m && m <= 12\n",
        "  in\n",
        "  veljaven_dan && veljaven_mesec"
      ]
    },
    {
      "cell_type": "code",
      "execution_count": 13,
      "metadata": {
        "slideshow": {
          "slide_type": "fragment"
        },
        "vscode": {
          "languageId": "ocaml"
        }
      },
      "outputs": [
        {
          "data": {
            "text/plain": [
              "val je_veljaven : datum -> bool = <fun>\n"
            ]
          },
          "execution_count": 13,
          "metadata": {},
          "output_type": "execute_result"
        }
      ],
      "source": [
        "let je_veljaven {dan; mesec; leto} =\n",
        "  let veljaven_dan = 1 <= dan && dan <= dolzina_meseca leto mesec\n",
        "  and veljaven_mesec = 1 <= mesec && mesec <= 12\n",
        "  in\n",
        "  veljaven_dan && veljaven_mesec"
      ]
    },
    {
      "cell_type": "markdown",
      "metadata": {
        "slideshow": {
          "slide_type": "slide"
        }
      },
      "source": [
        "### Zapise lahko **posodabljamo** z `with`"
      ]
    },
    {
      "cell_type": "markdown",
      "metadata": {},
      "source": [
        "Z zapisom `{zapis with polje1 = vrednost1, ...}` ustvarimo nov zapis, ki ima z izjemo naštetih vrednosti polja enaka prvotnemu:"
      ]
    },
    {
      "cell_type": "code",
      "execution_count": 14,
      "metadata": {
        "slideshow": {
          "slide_type": "fragment"
        },
        "vscode": {
          "languageId": "ocaml"
        }
      },
      "outputs": [
        {
          "data": {
            "text/plain": [
              "val pred_sto_leti : datum -> datum = <fun>\n"
            ]
          },
          "execution_count": 14,
          "metadata": {},
          "output_type": "execute_result"
        }
      ],
      "source": [
        "let pred_sto_leti datum =\n",
        "  {dan = datum.dan; mesec = datum.mesec; leto = datum.leto - 100}"
      ]
    },
    {
      "cell_type": "code",
      "execution_count": 15,
      "metadata": {
        "slideshow": {
          "slide_type": "fragment"
        },
        "vscode": {
          "languageId": "ocaml"
        }
      },
      "outputs": [
        {
          "data": {
            "text/plain": [
              "val pred_sto_leti : datum -> datum = <fun>\n"
            ]
          },
          "execution_count": 15,
          "metadata": {},
          "output_type": "execute_result"
        }
      ],
      "source": [
        "let pred_sto_leti datum =\n",
        "  {datum with leto = datum.leto - 100}"
      ]
    },
    {
      "cell_type": "markdown",
      "metadata": {
        "slideshow": {
          "slide_type": "slide"
        }
      },
      "source": [
        "### Tipi nam pomagajo pri **preverjanju veljavnosti**"
      ]
    },
    {
      "cell_type": "code",
      "execution_count": 24,
      "metadata": {
        "slideshow": {
          "slide_type": "fragment"
        },
        "vscode": {
          "languageId": "ocaml"
        }
      },
      "outputs": [
        {
          "data": {
            "text/plain": [
              "val naredi_veljaven_datum : datum -> datum option = <fun>\n"
            ]
          },
          "execution_count": 24,
          "metadata": {},
          "output_type": "execute_result"
        }
      ],
      "source": [
        "let naredi_veljaven_datum datum =\n",
        "  if je_veljaven datum then Some datum else None"
      ]
    },
    {
      "cell_type": "code",
      "execution_count": 23,
      "metadata": {
        "slideshow": {
          "slide_type": "fragment"
        },
        "vscode": {
          "languageId": "ocaml"
        }
      },
      "outputs": [
        {
          "data": {
            "text/plain": [
              "- : datum option = None\n"
            ]
          },
          "execution_count": 23,
          "metadata": {},
          "output_type": "execute_result"
        }
      ],
      "source": [
        "ustvari_datum 29 2 1900"
      ]
    },
    {
      "cell_type": "markdown",
      "metadata": {
        "slideshow": {
          "slide_type": "slide"
        }
      },
      "source": [
        "## Naštevni tipi"
      ]
    },
    {
      "cell_type": "markdown",
      "metadata": {},
      "source": [
        "Najzanimivejši tipi, ki jih lahko definiramo, so _naštevni tipi_. Tako kot pri zapisnih tipih bomo tudi vrednosti naštevnih tipov sestavljali iz manjših vrednosti. Razlika med njimi je v tem, da morajo biti pri zapisnih tipih prisotne vrednosti _vseh_ naštetih polj, mora biti pri naštevnih tipih prisotna _natanko ena_ izmed naštetih variant."
      ]
    },
    {
      "cell_type": "markdown",
      "metadata": {
        "slideshow": {
          "slide_type": "slide"
        }
      },
      "source": [
        "### **Naštevni tip** podamo z možnimi **variantami**"
      ]
    },
    {
      "cell_type": "markdown",
      "metadata": {},
      "source": [
        "Naštevne tipe podamo tako, da naštejemo možne variante, od katerih je vsaka podana s svojim _konstruktorjem_.\n",
        "\n",
        "Če želimo opisati pošiljko, jo opišemo s tremi vrednostmi: naslovnikom, naslovom in načinom dostave. Če želimo dostavo omejiti na dva možna načina, pa uporabimo naštevni tip z dvema variantama:"
      ]
    },
    {
      "cell_type": "code",
      "execution_count": 2,
      "metadata": {
        "slideshow": {
          "slide_type": "fragment"
        },
        "vscode": {
          "languageId": "ocaml"
        }
      },
      "outputs": [
        {
          "data": {
            "text/plain": [
              "type dostava = OsebniPrevzem | PoPosti\n"
            ]
          },
          "execution_count": 2,
          "metadata": {},
          "output_type": "execute_result"
        },
        {
          "data": {
            "text/plain": [
              "type posiljka = { naslovnik : string; naslov : string; dostava : dostava; }\n"
            ]
          },
          "execution_count": 2,
          "metadata": {},
          "output_type": "execute_result"
        }
      ],
      "source": [
        "type dostava =\n",
        "  | OsebniPrevzem\n",
        "  | PoPosti\n",
        "type posiljka = {\n",
        "  naslovnik : string;\n",
        "  naslov : string;\n",
        "  dostava : dostava\n",
        "}"
      ]
    },
    {
      "cell_type": "markdown",
      "metadata": {
        "slideshow": {
          "slide_type": "slide"
        }
      },
      "source": [
        "### Funkcije na naštevnih tipih podamo **po kosih**"
      ]
    },
    {
      "cell_type": "markdown",
      "metadata": {
        "vscode": {
          "languageId": "ocaml"
        }
      },
      "source": [
        "Tako kot vsote naštejemo po kosih, lahko prek `match` ali `function` po kosih tudi definiramo funkcije na njih."
      ]
    },
    {
      "cell_type": "code",
      "execution_count": 27,
      "metadata": {
        "slideshow": {
          "slide_type": "fragment"
        },
        "vscode": {
          "languageId": "ocaml"
        }
      },
      "outputs": [
        {
          "data": {
            "text/plain": [
              "type dostava = OsebniPrevzem | PoPosti\n"
            ]
          },
          "execution_count": 27,
          "metadata": {},
          "output_type": "execute_result"
        }
      ],
      "source": [
        "type dostava =\n",
        "  | OsebniPrevzem\n",
        "  | PoPosti"
      ]
    },
    {
      "cell_type": "code",
      "execution_count": 28,
      "metadata": {
        "slideshow": {
          "slide_type": "fragment"
        },
        "vscode": {
          "languageId": "ocaml"
        }
      },
      "outputs": [
        {
          "data": {
            "text/plain": [
              "val cena_dostave : dostava -> float = <fun>\n"
            ]
          },
          "execution_count": 28,
          "metadata": {},
          "output_type": "execute_result"
        }
      ],
      "source": [
        "let cena_dostave =\n",
        "  function\n",
        "  | OsebniPrevzem -> 0.\n",
        "  | PoPosti -> 2.5"
      ]
    },
    {
      "cell_type": "markdown",
      "metadata": {
        "slideshow": {
          "slide_type": "slide"
        }
      },
      "source": [
        "### Prevajalnik nas sam opozori na **manjkajoče primere**"
      ]
    },
    {
      "cell_type": "markdown",
      "metadata": {},
      "source": [
        "Če tip razširimo z dodatno varianto, nas bo prevajalnik sam opozoril nanjo:"
      ]
    },
    {
      "cell_type": "code",
      "execution_count": 5,
      "metadata": {
        "slideshow": {
          "slide_type": "fragment"
        },
        "vscode": {
          "languageId": "ocaml"
        }
      },
      "outputs": [
        {
          "data": {
            "text/plain": [
              "type dostava = OsebniPrevzem | PoPosti | HitraDostava\n"
            ]
          },
          "execution_count": 5,
          "metadata": {},
          "output_type": "execute_result"
        }
      ],
      "source": [
        "type dostava =\n",
        "  | OsebniPrevzem\n",
        "  | PoPosti\n",
        "  | HitraDostava"
      ]
    },
    {
      "cell_type": "code",
      "execution_count": 6,
      "metadata": {
        "slideshow": {
          "slide_type": "fragment"
        },
        "vscode": {
          "languageId": "ocaml"
        }
      },
      "outputs": [
        {
          "name": "stderr",
          "output_type": "stream",
          "text": [
            "File \"[6]\", lines 2-4, characters 2-18:\n",
            "2 | ..function\n",
            "3 |   | OsebniPrevzem -> 0.\n",
            "4 |   | PoPosti -> 2.5\n",
            "Warning 8 [partial-match]: this pattern-matching is not exhaustive.\n",
            "Here is an example of a case that is not matched:\n",
            "HitraDostava\n"
          ]
        },
        {
          "data": {
            "text/plain": [
              "val cena_dostave : dostava -> float = <fun>\n"
            ]
          },
          "execution_count": 6,
          "metadata": {},
          "output_type": "execute_result"
        }
      ],
      "source": [
        "let cena_dostave =\n",
        "  function\n",
        "  | OsebniPrevzem -> 0.\n",
        "  | PoPosti -> 2.5"
      ]
    },
    {
      "cell_type": "code",
      "execution_count": 7,
      "metadata": {
        "vscode": {
          "languageId": "ocaml"
        }
      },
      "outputs": [
        {
          "data": {
            "text/plain": [
              "val cena_dostave : dostava -> float = <fun>\n"
            ]
          },
          "execution_count": 7,
          "metadata": {},
          "output_type": "execute_result"
        }
      ],
      "source": [
        "let cena_dostave =\n",
        "  function\n",
        "  | OsebniPrevzem -> 0.\n",
        "  | PoPosti -> 2.5\n",
        "  | HitraDostava -> 4."
      ]
    },
    {
      "cell_type": "markdown",
      "metadata": {
        "slideshow": {
          "slide_type": "slide"
        }
      },
      "source": [
        "### Konstruktorji lahko sprejmejo tudi **argumente**"
      ]
    },
    {
      "cell_type": "markdown",
      "metadata": {},
      "source": [
        "Vsak izmed naštetih konstruktorjev lahko sprejme tudi argumente vnaprej določenega tipa:"
      ]
    },
    {
      "cell_type": "code",
      "execution_count": 35,
      "metadata": {
        "slideshow": {
          "slide_type": "fragment"
        },
        "vscode": {
          "languageId": "ocaml"
        }
      },
      "outputs": [
        {
          "data": {
            "text/plain": [
              "type dostava = OsebniPrevzem | PoPosti of string | HitraDostava of string\n"
            ]
          },
          "execution_count": 35,
          "metadata": {},
          "output_type": "execute_result"
        },
        {
          "data": {
            "text/plain": [
              "type posiljka = { naslovnik : string; dostava : dostava; }\n"
            ]
          },
          "execution_count": 35,
          "metadata": {},
          "output_type": "execute_result"
        }
      ],
      "source": [
        "type dostava =\n",
        "  | OsebniPrevzem\n",
        "  | PoPosti of string\n",
        "  | HitraDostava of string\n",
        "type posiljka = {\n",
        "  naslovnik : string;\n",
        "  dostava : dostava\n",
        "}"
      ]
    },
    {
      "cell_type": "code",
      "execution_count": 39,
      "metadata": {
        "slideshow": {
          "slide_type": "fragment"
        },
        "vscode": {
          "languageId": "ocaml"
        }
      },
      "outputs": [
        {
          "data": {
            "text/plain": [
              "- : dostava = HitraDostava \"Jadranska ulica 21, 1000 Ljubljana\"\n"
            ]
          },
          "execution_count": 39,
          "metadata": {},
          "output_type": "execute_result"
        }
      ],
      "source": [
        "HitraDostava \"Jadranska ulica 21, 1000 Ljubljana\""
      ]
    },
    {
      "cell_type": "markdown",
      "metadata": {
        "slideshow": {
          "slide_type": "slide"
        }
      },
      "source": [
        "### Tipi z **eno varianto** so uporabni za ločevanje tipov"
      ]
    },
    {
      "cell_type": "code",
      "execution_count": 45,
      "metadata": {
        "scrolled": true,
        "vscode": {
          "languageId": "ocaml"
        }
      },
      "outputs": [
        {
          "ename": "error",
          "evalue": "compile_error",
          "output_type": "error",
          "traceback": [
            "File \"[45]\", line 3, characters 4-11:\n3 |     Telefon \"01 4766 600\",\n        ^^^^^^^\nError: This variant expression is expected to have type naslov\n       There is no constructor Telefon within type naslov\n"
          ]
        }
      ],
      "source": [
        "{ naslovnik = \"Matija Pretnar\";\n",
        "  dostava = HitraDostava (\n",
        "    Telefon \"01 4766 600\",\n",
        "    Naslov \"Jadranska 21\"\n",
        "  )}"
      ]
    },
    {
      "cell_type": "code",
      "execution_count": 41,
      "metadata": {
        "slideshow": {
          "slide_type": "fragment"
        },
        "vscode": {
          "languageId": "ocaml"
        }
      },
      "outputs": [
        {
          "data": {
            "text/plain": [
              "type naslov = Naslov of string\n"
            ]
          },
          "execution_count": 41,
          "metadata": {},
          "output_type": "execute_result"
        },
        {
          "data": {
            "text/plain": [
              "type telefon = Telefon of string\n"
            ]
          },
          "execution_count": 41,
          "metadata": {},
          "output_type": "execute_result"
        },
        {
          "data": {
            "text/plain": [
              "type dostava =\n",
              "    OsebniPrevzem\n",
              "  | PoPosti of naslov\n",
              "  | HitraDostava of naslov * telefon\n"
            ]
          },
          "execution_count": 41,
          "metadata": {},
          "output_type": "execute_result"
        },
        {
          "data": {
            "text/plain": [
              "type posiljka = { naslovnik : string; dostava : dostava; }\n"
            ]
          },
          "execution_count": 41,
          "metadata": {},
          "output_type": "execute_result"
        }
      ],
      "source": [
        "type naslov = Naslov of string\n",
        "type telefon = Telefon of string\n",
        "type dostava =\n",
        "  | OsebniPrevzem\n",
        "  | PoPosti of naslov\n",
        "  | HitraDostava of naslov * telefon\n",
        "type posiljka = {\n",
        "  naslovnik : string;\n",
        "  dostava : dostava\n",
        "}"
      ]
    },
    {
      "cell_type": "markdown",
      "metadata": {
        "slideshow": {
          "slide_type": "slide"
        }
      },
      "source": [
        "### Naštevni tipi so lahko **parametrizirani** in **rekurzivni**"
      ]
    },
    {
      "cell_type": "markdown",
      "metadata": {},
      "source": [
        "Tako kot na primer vgrajeni tip `list` lahko tudi naši tipi vsebujejo parametre:"
      ]
    },
    {
      "cell_type": "markdown",
      "metadata": {
        "slideshow": {
          "slide_type": "fragment"
        }
      },
      "source": [
        "```ocaml\n",
        "type 'a option =\n",
        "  | None\n",
        "  | Some of 'a\n",
        "```"
      ]
    },
    {
      "cell_type": "markdown",
      "metadata": {},
      "source": [
        "Naštevni tipi so lahko definirani tudi rekurzivno. Primer takega tipa, ki ga že poznamo, so seznami. Vsak seznam je bodisi prazen, bodisi sestavljen iz glave in repa:"
      ]
    },
    {
      "cell_type": "markdown",
      "metadata": {
        "slideshow": {
          "slide_type": "fragment"
        }
      },
      "source": [
        "```ocaml\n",
        "type 'a seznam =\n",
        "  | Prazen\n",
        "  | Sestavljen of 'a * 'a seznam\n",
        "```"
      ]
    },
    {
      "cell_type": "markdown",
      "metadata": {},
      "source": [
        "Sedaj tudi vidimo, zakaj `::` lahko uporabljamo v vzorcih - ni namreč običajna funkcija za sestavljanje seznamov, temveč konstruktor tipa seznamov."
      ]
    }
  ],
  "metadata": {
    "celltoolbar": "Slideshow",
    "kernelspec": {
      "display_name": "OCaml default",
      "language": "OCaml",
      "name": "ocaml-jupyter-default"
    },
    "language_info": {
      "codemirror_mode": "text/x-ocaml",
      "file_extension": ".ml",
      "mimetype": "text/x-ocaml",
      "name": "OCaml",
      "nbconverter_exporter": null,
      "pygments_lexer": "OCaml",
      "version": "4.14.1"
    }
  },
  "nbformat": 4,
  "nbformat_minor": 2
}
=======
{
  "cells": [
    {
      "cell_type": "markdown",
      "metadata": {},
      "source": [
        "# Algebrajski tipi"
      ]
    },
    {
      "cell_type": "markdown",
      "metadata": {},
      "source": [
        "Poleg bogatega nabora vgrajenih tipov si tipe v OCamlu lahko definiramo tudi sami."
      ]
    },
    {
      "cell_type": "markdown",
      "metadata": {
        "slideshow": {
          "slide_type": "slide"
        }
      },
      "source": [
        "## Okrajšave tipov"
      ]
    },
    {
      "cell_type": "markdown",
      "metadata": {},
      "source": [
        "Najenostavnejši način za definicijo tipov so okrajšave obstoječih tipov. Na primer, tip za $\\mathbb{R}^3$ si lahko definiramo kot:"
      ]
    },
    {
      "cell_type": "code",
      "execution_count": null,
      "metadata": {
        "slideshow": {
          "slide_type": "fragment"
        },
        "vscode": {
          "languageId": "ocaml"
        }
      },
      "outputs": [],
      "source": [
        "type r3 = float * float * float"
      ]
    },
    {
      "cell_type": "markdown",
      "metadata": {},
      "source": [
        "Tako kot na vgrajena tipa `list` in `option` lahko tudi naši tipi vsebujejo parametre:"
      ]
    },
    {
      "cell_type": "code",
      "execution_count": null,
      "metadata": {
        "vscode": {
          "languageId": "ocaml"
        }
      },
      "outputs": [],
      "source": [
        "type 'a zaporedje = int -> 'a"
      ]
    },
    {
      "cell_type": "markdown",
      "metadata": {},
      "source": [
        "Če tip sprejme več parametrov (na primer slovar ima tako tip ključev kot tip vrednosti), jih lahko naštejemo v oklepajih."
      ]
    },
    {
      "cell_type": "code",
      "execution_count": null,
      "metadata": {
        "vscode": {
          "languageId": "ocaml"
        }
      },
      "outputs": [],
      "source": [
        "type ('k, 'v) slovar = ('k * 'v) list"
      ]
    },
    {
      "cell_type": "markdown",
      "metadata": {},
      "source": [
        "### Označba tipov"
      ]
    },
    {
      "cell_type": "markdown",
      "metadata": {},
      "source": [
        "Tudi če si definiramo svoj tip, bo OCaml privzeto izračunal najbolj splošni tip:"
      ]
    },
    {
      "cell_type": "code",
      "execution_count": null,
      "metadata": {
        "vscode": {
          "languageId": "ocaml"
        }
      },
      "outputs": [],
      "source": [
        "let vsota_r3 (x1, y1, z1) (x2, y2, z2) =\n",
        "  (x1 +. x2, y1 +. y2, z1 +. z2)"
      ]
    },
    {
      "cell_type": "markdown",
      "metadata": {},
      "source": [
        "Če želimo vsiliti svoj tip, to na poljubnem vzorcu ali izrazu storimo z označbo `(... : tip)`. Tip rezultata funkcije vsilimo z `let ... : tip = ...`."
      ]
    },
    {
      "cell_type": "code",
      "execution_count": null,
      "metadata": {
        "slideshow": {
          "slide_type": "fragment"
        },
        "vscode": {
          "languageId": "ocaml"
        }
      },
      "outputs": [],
      "source": [
        "let vsota_r3 ((x1, y1, z1) : r3) ((x2, y2, z2) : r3) : r3 =\n",
        "  (x1 +. x2, y1 +. y2, z1 +. z2)"
      ]
    },
    {
      "cell_type": "markdown",
      "metadata": {},
      "source": [
        "Alternativni način zgornje označbe je tudi:"
      ]
    },
    {
      "cell_type": "code",
      "execution_count": null,
      "metadata": {
        "slideshow": {
          "slide_type": "fragment"
        },
        "vscode": {
          "languageId": "ocaml"
        }
      },
      "outputs": [],
      "source": [
        "let vsota_r3' : r3 -> r3 -> r3 =\n",
        " fun (x1, y1, z1) (x2, y2, z2) -> (x1 +. x2, y1 +. y2, z1 +. z2)"
      ]
    },
    {
      "cell_type": "markdown",
      "metadata": {},
      "source": [
        "## Zapisni tipi"
      ]
    },
    {
      "cell_type": "markdown",
      "metadata": {},
      "source": [
        "Kompleksna števila predstavimo s pari realnih števil:"
      ]
    },
    {
      "cell_type": "code",
      "execution_count": null,
      "metadata": {
        "vscode": {
          "languageId": "ocaml"
        }
      },
      "outputs": [],
      "source": [
        "type kompleksno = float * float"
      ]
    },
    {
      "cell_type": "markdown",
      "metadata": {},
      "source": [
        "\n",
        "Kako bi izračunali absolutno vrednost kompleksnega števila? Ena možnost je:"
      ]
    },
    {
      "cell_type": "code",
      "execution_count": null,
      "metadata": {
        "vscode": {
          "languageId": "ocaml"
        }
      },
      "outputs": [],
      "source": [
        "let abs (x, y) = sqrt (x ** 2. +. y ** 2.)"
      ]
    },
    {
      "cell_type": "markdown",
      "metadata": {},
      "source": [
        "Toda če smo v mislih imeli polarni zapis, je pravilna definicija:"
      ]
    },
    {
      "cell_type": "code",
      "execution_count": null,
      "metadata": {
        "vscode": {
          "languageId": "ocaml"
        }
      },
      "outputs": [],
      "source": [
        "let abs (r, _) = r"
      ]
    },
    {
      "cell_type": "markdown",
      "metadata": {},
      "source": [
        "Ali pa datume, ki jih ponavadi predstavimo s trojico celih števil:"
      ]
    },
    {
      "cell_type": "code",
      "execution_count": null,
      "metadata": {
        "vscode": {
          "languageId": "ocaml"
        }
      },
      "outputs": [],
      "source": [
        "type datum = int * int * int"
      ]
    },
    {
      "cell_type": "markdown",
      "metadata": {},
      "source": [
        "Kateri vrstni red smo uporabili: dan, mesec, leto, kot smo navajeni v Sloveniji, ali leto, mesec, dan, kot je mednarodni standard? Mogoče celo mesec, dan, leto, kot je navada v Združenih državah?"
      ]
    },
    {
      "cell_type": "markdown",
      "metadata": {
        "slideshow": {
          "slide_type": "slide"
        }
      },
      "source": [
        "### Definicija zapisnih tipov"
      ]
    },
    {
      "cell_type": "markdown",
      "metadata": {},
      "source": [
        "\n",
        "Zmešnjavi se lahko izognemo, če komponente poimenujemo. V OCamlu to storimo z zapisnimi tipi, ki jih podamo tako, da naštejemo imena polj ter njihove tipe:"
      ]
    },
    {
      "cell_type": "code",
      "execution_count": null,
      "metadata": {
        "slideshow": {
          "slide_type": "fragment"
        },
        "vscode": {
          "languageId": "ocaml"
        }
      },
      "outputs": [],
      "source": [
        "type kartezicno = {re : float; im : float}\n",
        "type polarno = {radij : float; kot : float}\n",
        "type datum = { dan : int; mesec : int; leto : int }"
      ]
    },
    {
      "cell_type": "markdown",
      "metadata": {},
      "source": [
        "Vrednosti tipov pišemo podobno, le da jih podamo z `=`:"
      ]
    },
    {
      "cell_type": "code",
      "execution_count": null,
      "metadata": {
        "slideshow": {
          "slide_type": "fragment"
        },
        "vscode": {
          "languageId": "ocaml"
        }
      },
      "outputs": [],
      "source": [
        "let i = {re = 0.; im = 1.}\n",
        "let i' = { radij = 1.; kot = 0.}\n",
        "let osamosvojitev = { dan = 25; mesec = 6; leto = 1991 }"
      ]
    },
    {
      "cell_type": "markdown",
      "metadata": {},
      "source": [
        "Kljub temu, da zapise pišemo podobno kot Pythonove slovarje, gre za popolnoma različni strukturi. Zapisi so poimenovani kartezični produkti, torej heterogeni, Pythonovi slovarji pa so običajno homogeni, torej so vsi ključi enega in vse vrednosti drugega tipa. Poleg tega imena polj zapisov niso vrednosti, ki bi si jih lahko podajali naokoli."
      ]
    },
    {
      "cell_type": "markdown",
      "metadata": {
        "slideshow": {
          "slide_type": "slide"
        }
      },
      "source": [
        "### Razstavljanje zapisov"
      ]
    },
    {
      "cell_type": "markdown",
      "metadata": {},
      "source": [
        "Do posameznih komponent dostopamo z `zapis.ime_polja`:"
      ]
    },
    {
      "cell_type": "code",
      "execution_count": null,
      "metadata": {
        "vscode": {
          "languageId": "ocaml"
        }
      },
      "outputs": [],
      "source": [
        "let abs z = sqrt (z.re ** 2. +. z.im ** 2.)"
      ]
    },
    {
      "cell_type": "code",
      "execution_count": null,
      "metadata": {
        "vscode": {
          "languageId": "ocaml"
        }
      },
      "outputs": [],
      "source": [
        "let abs' z = z.radij"
      ]
    },
    {
      "cell_type": "code",
      "execution_count": null,
      "metadata": {
        "slideshow": {
          "slide_type": "fragment"
        },
        "vscode": {
          "languageId": "ocaml"
        }
      },
      "outputs": [],
      "source": [
        "let je_prestopno leto =\n",
        "  (leto mod 4 = 0 && leto mod 100 <> 0) || leto mod 400 = 0\n",
        "  \n",
        "let dolzina_meseca leto =\n",
        "  function\n",
        "  | 4 | 6 | 9 | 11 -> 30\n",
        "  | 2 -> if je_prestopno leto then 29 else 28\n",
        "  | _ -> 31"
      ]
    },
    {
      "cell_type": "code",
      "execution_count": null,
      "metadata": {
        "slideshow": {
          "slide_type": "fragment"
        },
        "vscode": {
          "languageId": "ocaml"
        }
      },
      "outputs": [],
      "source": [
        "let je_veljaven datum =\n",
        "  let veljaven_dan = 1 <= datum.dan && datum.dan <= dolzina_meseca datum.leto datum.mesec\n",
        "  and veljaven_mesec = 1 <= datum.mesec && datum.mesec <= 12\n",
        "  in\n",
        "  veljaven_dan && veljaven_mesec"
      ]
    },
    {
      "cell_type": "markdown",
      "metadata": {
        "slideshow": {
          "slide_type": "slide"
        }
      },
      "source": [
        "Včasih je krajše, če zapise razstavimo s pomočjo vzorcev oblike `{ polje1 = vzorec1; polje2 = vzorec2; … }`:"
      ]
    },
    {
      "cell_type": "code",
      "execution_count": null,
      "metadata": {
        "slideshow": {
          "slide_type": "fragment"
        },
        "vscode": {
          "languageId": "ocaml"
        }
      },
      "outputs": [],
      "source": [
        "let je_veljaven {dan = d; mesec = m; leto = l} =\n",
        "  let veljaven_dan = 1 <= d && d <= dolzina_meseca l m\n",
        "  and veljaven_mesec = 1 <= m && m <= 12\n",
        "  in\n",
        "  veljaven_dan && veljaven_mesec"
      ]
    },
    {
      "cell_type": "markdown",
      "metadata": {},
      "source": [
        "Če za vzorce uporabimo spremenljivke z enakimi imeni kot polja, lahko uporabimo tudi krajšo obliko:"
      ]
    },
    {
      "cell_type": "code",
      "execution_count": null,
      "metadata": {
        "vscode": {
          "languageId": "ocaml"
        }
      },
      "outputs": [],
      "source": [
        "let je_veljaven {dan = dan; mesec = mesec; leto = leto} =\n",
        "  let veljaven_dan = 1 <= dan && dan <= dolzina_meseca leto mesec\n",
        "  and veljaven_mesec = 1 <= mesec && mesec <= 12\n",
        "  in\n",
        "  veljaven_dan && veljaven_mesec"
      ]
    },
    {
      "cell_type": "code",
      "execution_count": null,
      "metadata": {
        "slideshow": {
          "slide_type": "fragment"
        },
        "vscode": {
          "languageId": "ocaml"
        }
      },
      "outputs": [],
      "source": [
        "let je_veljaven {dan; mesec; leto} =\n",
        "  let veljaven_dan = 1 <= dan && dan <= dolzina_meseca leto mesec\n",
        "  and veljaven_mesec = 1 <= mesec && mesec <= 12\n",
        "  in\n",
        "  veljaven_dan && veljaven_mesec"
      ]
    },
    {
      "cell_type": "code",
      "execution_count": null,
      "metadata": {
        "vscode": {
          "languageId": "ocaml"
        }
      },
      "outputs": [],
      "source": [
        "let abs {re; im} = sqrt (re ** 2. +. im ** 2.)"
      ]
    },
    {
      "cell_type": "markdown",
      "metadata": {},
      "source": [
        "Če želimo v vzorcu kakšna polja izpustiti, jih nadomestimo z podčrtajem:"
      ]
    },
    {
      "cell_type": "code",
      "execution_count": null,
      "metadata": {
        "vscode": {
          "languageId": "ocaml"
        }
      },
      "outputs": [],
      "source": [
        "let abs' { radij; _ } = radij"
      ]
    },
    {
      "cell_type": "code",
      "execution_count": null,
      "metadata": {
        "vscode": {
          "languageId": "ocaml"
        }
      },
      "outputs": [],
      "source": [
        "let je_pred_nasim_stetjem {leto; _} =\n",
        "  leto <= 0"
      ]
    },
    {
      "cell_type": "markdown",
      "metadata": {
        "slideshow": {
          "slide_type": "slide"
        }
      },
      "source": [
        "### Posodabljanje zapisov"
      ]
    },
    {
      "cell_type": "markdown",
      "metadata": {},
      "source": [
        "Z zapisom `{zapis with polje1 = vrednost1; …}` ustvarimo nov zapis, ki ima z izjemo naštetih vrednosti polja enaka prvotnemu:"
      ]
    },
    {
      "cell_type": "code",
      "execution_count": null,
      "metadata": {
        "vscode": {
          "languageId": "ocaml"
        }
      },
      "outputs": [],
      "source": [
        "let konjugiraj z = {z with im = -. z.im}"
      ]
    },
    {
      "cell_type": "code",
      "execution_count": null,
      "metadata": {
        "slideshow": {
          "slide_type": "fragment"
        },
        "vscode": {
          "languageId": "ocaml"
        }
      },
      "outputs": [],
      "source": [
        "let pred_sto_leti datum =\n",
        "  {dan = datum.dan; mesec = datum.mesec; leto = datum.leto - 100}"
      ]
    },
    {
      "cell_type": "code",
      "execution_count": null,
      "metadata": {
        "slideshow": {
          "slide_type": "fragment"
        },
        "vscode": {
          "languageId": "ocaml"
        }
      },
      "outputs": [],
      "source": [
        "let pred_sto_leti datum =\n",
        "  {datum with leto = datum.leto - 100}"
      ]
    },
    {
      "cell_type": "markdown",
      "metadata": {},
      "source": [
        "### Pametni konstruktorji"
      ]
    },
    {
      "cell_type": "markdown",
      "metadata": {
        "vscode": {
          "languageId": "ocaml"
        }
      },
      "source": [
        "Z lastnimi tipi lahko dosežemo tudi strožje preverjanje veljavnosti vrednosti. Napišimo funkcijo `naredi_datum`, ki vrne datum le, če dani trije argumenti predstavljajo veljaven datum. Takim funkcijam pravimo _pametni konstruktorji_, saj konstrukcijo vrednosti obogatijo z dodatno logiko."
      ]
    },
    {
      "cell_type": "code",
      "execution_count": null,
      "metadata": {
        "vscode": {
          "languageId": "ocaml"
        }
      },
      "outputs": [],
      "source": [
        "let naredi_datum dan mesec leto =\n",
        "  let datum = { dan; mesec; leto } in\n",
        "  if je_veljaven datum then Some datum else None"
      ]
    },
    {
      "cell_type": "code",
      "execution_count": null,
      "metadata": {
        "vscode": {
          "languageId": "ocaml"
        }
      },
      "outputs": [],
      "source": [
        "\n",
        "  naredi_datum 29 2 2000\n"
      ]
    },
    {
      "cell_type": "code",
      "execution_count": null,
      "metadata": {
        "vscode": {
          "languageId": "ocaml"
        }
      },
      "outputs": [],
      "source": [
        "\n",
        "  naredi_datum 29 2 1900\n"
      ]
    },
    {
      "cell_type": "markdown",
      "metadata": {
        "vscode": {
          "languageId": "ocaml"
        }
      },
      "source": [
        "Če smo previdni in za konstrukcijo datumov uporabimo le to funkcijo, bodo vsi datumi v našem programu veljavni. Kmalu bomo videli, da nam tudi previden ne bo treba biti, saj bomo uporabo pametnih konstruktorjev tudi vsilili."
      ]
    },
    {
      "cell_type": "markdown",
      "metadata": {
        "slideshow": {
          "slide_type": "slide"
        }
      },
      "source": [
        "## Naštevni tipi"
      ]
    },
    {
      "cell_type": "markdown",
      "metadata": {},
      "source": [
        "Najzanimivejši tipi, ki jih lahko definiramo, so _naštevni tipi_. Tako kot pri zapisnih tipih bomo tudi vrednosti naštevnih tipov sestavljali iz manjših vrednosti. Razlika med njimi je v tem, da morajo biti pri zapisnih tipih prisotne vrednosti _vseh_ naštetih polj, mora biti pri naštevnih tipih prisotna _natanko ena_ izmed naštetih variant."
      ]
    },
    {
      "cell_type": "markdown",
      "metadata": {},
      "source": [
        "Recimo, da si želimo definirati tip pošiljk iz spletne trgovine. Zaenkrat imena in naslove predstavimo z nizi. Tudi vrsto dostave (osebno, po pošti) bi lahko predstavili z nizi."
      ]
    },
    {
      "cell_type": "code",
      "execution_count": null,
      "metadata": {
        "vscode": {
          "languageId": "ocaml"
        }
      },
      "outputs": [],
      "source": [
        "type posiljka = {\n",
        "  naslovnik : string;\n",
        "  naslov : string;\n",
        "  dostava : string\n",
        "}"
      ]
    },
    {
      "cell_type": "code",
      "execution_count": null,
      "metadata": {
        "vscode": {
          "languageId": "ocaml"
        }
      },
      "outputs": [],
      "source": [
        "[\n",
        "  { naslovnik = \"Matija Pretnar\"; naslov = \"5.19\"; dostava = \"osebni prevzem\"};\n",
        "  { naslovnik = \"Katja Berčič\"; naslov = \"5.07\"; dostava = \"po pošti\"};\n",
        "  { naslovnik = \"Filip Koprivec\"; naslov = \"P.23\"; dostava = \"osebno\"};\n",
        "]"
      ]
    },
    {
      "cell_type": "markdown",
      "metadata": {},
      "source": [
        "Vidimo, da lahko v nize zapišemo karkoli, kar otežuje obdelavo podatkov, pa tudi vodi v nesmisle. Ena možnost je, da dostavo opišemo z logično vrednostjo:"
      ]
    },
    {
      "cell_type": "code",
      "execution_count": null,
      "metadata": {
        "vscode": {
          "languageId": "ocaml"
        }
      },
      "outputs": [],
      "source": [
        "type posiljka = {\n",
        "  naslovnik : string;\n",
        "  naslov : string;\n",
        "  osebni_prevzem : bool\n",
        "}"
      ]
    },
    {
      "cell_type": "code",
      "execution_count": null,
      "metadata": {
        "vscode": {
          "languageId": "ocaml"
        }
      },
      "outputs": [],
      "source": [
        "[\n",
        "  { naslovnik = \"Matija Pretnar\"; naslov = \"5.19\"; osebni_prevzem = true };\n",
        "  { naslovnik = \"Katja Berčič\"; naslov = \"5.07\"; osebni_prevzem = false };\n",
        "  { naslovnik = \"Filip Koprivec\"; naslov = \"P.23\"; osebni_prevzem = true };\n",
        "]"
      ]
    },
    {
      "cell_type": "markdown",
      "metadata": {},
      "source": [
        "Ta rešitev ni idealna, saj ne vemo, kaj vse implicira vrednost `false`. Še več: kaj, če bi želeli dodati še tretjo možnost, na primer hitro dostavo? Boljši način je, da uporabimo naštevne tipe."
      ]
    },
    {
      "cell_type": "markdown",
      "metadata": {
        "slideshow": {
          "slide_type": "slide"
        }
      },
      "source": [
        "### Definicije naštevnih tipov"
      ]
    },
    {
      "cell_type": "markdown",
      "metadata": {},
      "source": [
        "Naštevne tipe podamo tako, da naštejemo možne variante, od katerih je vsaka podana s svojim _konstruktorjem_."
      ]
    },
    {
      "cell_type": "code",
      "execution_count": null,
      "metadata": {
        "slideshow": {
          "slide_type": "fragment"
        },
        "vscode": {
          "languageId": "ocaml"
        }
      },
      "outputs": [],
      "source": [
        "type dostava =\n",
        "  | OsebniPrevzem\n",
        "  | PoPosti\n",
        "\n",
        "type posiljka = {\n",
        "  naslovnik : string;\n",
        "  naslov : string;\n",
        "  dostava : dostava\n",
        "}"
      ]
    },
    {
      "cell_type": "markdown",
      "metadata": {
        "vscode": {
          "languageId": "ocaml"
        }
      },
      "source": [
        "Tedaj bo tip imel natanko dve možni vrednosti in OCaml nas bo opozoril, če poskusimo uporabiti nenavedeno varianto:\n"
      ]
    },
    {
      "cell_type": "code",
      "execution_count": null,
      "metadata": {
        "tags": [
          "raises-exception"
        ],
        "vscode": {
          "languageId": "ocaml"
        }
      },
      "outputs": [],
      "source": [
        "[\n",
        "  { naslovnik = \"Matija Pretnar\"; naslov = \"5.19\"; dostava = OsebniPrevzem };\n",
        "  { naslovnik = \"Katja Berčič\"; naslov = \"5.07\"; dostava = PoPosti };\n",
        "  { naslovnik = \"Filip Koprivec\"; naslov = \"P.23\"; dostava = Osebno };\n",
        "]"
      ]
    },
    {
      "cell_type": "markdown",
      "metadata": {
        "slideshow": {
          "slide_type": "slide"
        }
      },
      "source": [
        "### Razstavljanje naštevnih tipov"
      ]
    },
    {
      "cell_type": "markdown",
      "metadata": {
        "vscode": {
          "languageId": "ocaml"
        }
      },
      "source": [
        "Tako kot naštevne tipe podamo po kosih, lahko prek `match` ali `function` po kosih tudi definiramo funkcije na njih."
      ]
    },
    {
      "cell_type": "code",
      "execution_count": null,
      "metadata": {
        "slideshow": {
          "slide_type": "fragment"
        },
        "vscode": {
          "languageId": "ocaml"
        }
      },
      "outputs": [],
      "source": [
        "type dostava =\n",
        "  | OsebniPrevzem\n",
        "  | PoPosti"
      ]
    },
    {
      "cell_type": "code",
      "execution_count": null,
      "metadata": {
        "slideshow": {
          "slide_type": "fragment"
        },
        "vscode": {
          "languageId": "ocaml"
        }
      },
      "outputs": [],
      "source": [
        "let cena_dostave =\n",
        "  function\n",
        "  | OsebniPrevzem -> 0.\n",
        "  | PoPosti -> 2.5"
      ]
    },
    {
      "cell_type": "markdown",
      "metadata": {},
      "source": [
        "Če tip razširimo z dodatno varianto, nas bo prevajalnik sam opozoril nanjo:"
      ]
    },
    {
      "cell_type": "code",
      "execution_count": null,
      "metadata": {
        "slideshow": {
          "slide_type": "fragment"
        },
        "vscode": {
          "languageId": "ocaml"
        }
      },
      "outputs": [],
      "source": [
        "type dostava =\n",
        "  | OsebniPrevzem\n",
        "  | PoPosti\n",
        "  | HitraDostava"
      ]
    },
    {
      "cell_type": "code",
      "execution_count": null,
      "metadata": {
        "slideshow": {
          "slide_type": "fragment"
        },
        "vscode": {
          "languageId": "ocaml"
        }
      },
      "outputs": [],
      "source": [
        "let cena_dostave =\n",
        "  function\n",
        "  | OsebniPrevzem -> 0.\n",
        "  | PoPosti -> 2.5"
      ]
    },
    {
      "cell_type": "code",
      "execution_count": null,
      "metadata": {
        "vscode": {
          "languageId": "ocaml"
        }
      },
      "outputs": [],
      "source": [
        "let cena_dostave =\n",
        "  function\n",
        "  | OsebniPrevzem -> 0.\n",
        "  | PoPosti -> 2.5\n",
        "  | HitraDostava -> 4."
      ]
    },
    {
      "cell_type": "markdown",
      "metadata": {
        "slideshow": {
          "slide_type": "slide"
        }
      },
      "source": [
        "### Konstruktorji z argumenti"
      ]
    },
    {
      "cell_type": "markdown",
      "metadata": {},
      "source": [
        "Vsak izmed naštetih konstruktorjev lahko sprejme tudi argumente vnaprej določenega tipa:"
      ]
    },
    {
      "cell_type": "code",
      "execution_count": null,
      "metadata": {
        "slideshow": {
          "slide_type": "fragment"
        },
        "vscode": {
          "languageId": "ocaml"
        }
      },
      "outputs": [],
      "source": [
        "type dostava =\n",
        "  | OsebniPrevzem\n",
        "  | PoPosti of string\n",
        "  | HitraDostava of string\n",
        "type posiljka = {\n",
        "  naslovnik : string;\n",
        "  dostava : dostava\n",
        "}"
      ]
    },
    {
      "cell_type": "code",
      "execution_count": null,
      "metadata": {
        "slideshow": {
          "slide_type": "fragment"
        },
        "vscode": {
          "languageId": "ocaml"
        }
      },
      "outputs": [],
      "source": [
        "HitraDostava \"Jadranska ulica 21, 1000 Ljubljana\""
      ]
    },
    {
      "cell_type": "code",
      "execution_count": null,
      "metadata": {
        "vscode": {
          "languageId": "ocaml"
        }
      },
      "outputs": [],
      "source": [
        "type geometrijski_objekt =\n",
        "  | Tocka\n",
        "  | Krog of float\n",
        "  | Pravokotnik of float * float"
      ]
    },
    {
      "cell_type": "code",
      "execution_count": null,
      "metadata": {
        "vscode": {
          "languageId": "ocaml"
        }
      },
      "outputs": [],
      "source": [
        "let ploscina =\n",
        "  function\n",
        "  | Tocka -> 0.\n",
        "  | Krog r -> 3.14 *. r ** 2.\n",
        "  | Pravokotnik (v, s) -> v *. s"
      ]
    },
    {
      "cell_type": "code",
      "execution_count": null,
      "metadata": {
        "vscode": {
          "languageId": "ocaml"
        }
      },
      "outputs": [],
      "source": [
        "[Tocka; Pravokotnik (1., 2.); Tocka; Krog 3.]\n",
        "|> List.map ploscina\n",
        "|> List.fold_left (+.) 0."
      ]
    },
    {
      "cell_type": "markdown",
      "metadata": {},
      "source": [
        "Primer naštevnega tipa, ki ga že poznamo, je tip `option`:"
      ]
    },
    {
      "cell_type": "code",
      "execution_count": null,
      "metadata": {
        "vscode": {
          "languageId": "ocaml"
        }
      },
      "outputs": [],
      "source": [
        "type 'a option = None | Some of 'a"
      ]
    },
    {
      "cell_type": "markdown",
      "metadata": {
        "slideshow": {
          "slide_type": "slide"
        }
      },
      "source": [
        "### Naštevni tipi z eno samo varianto"
      ]
    },
    {
      "cell_type": "markdown",
      "metadata": {},
      "source": [
        "Naštevni tipi so lahko koristni tudi takrat, ko imajo samo eno varianto, saj s tem lahko ločimo vrednosti, ki so predstavljene z istim osnovnim tipom. Recimo, tako naslove kot telefonske številke lahko predstavimo z nizi. Vendar če za dve vrsti vrednosti uporabljamo isti tip, lahko to vodi do zmešnjave, kakršna se je [zgodila mestecu Gold Hill](https://mathwithbaddrawings.com/2015/08/19/the-smartest-dumb-error-in-the-great-state-of-colorado/).\n",
        "\n",
        "Če pa definiramo dva različna naštevna tipa, bo na to namesto nas pazil prevajalnik:"
      ]
    },
    {
      "cell_type": "code",
      "execution_count": null,
      "metadata": {
        "slideshow": {
          "slide_type": "fragment"
        },
        "vscode": {
          "languageId": "ocaml"
        }
      },
      "outputs": [],
      "source": [
        "type naslov = Naslov of string\n",
        "type telefon = Telefon of string\n",
        "\n",
        "type dostava =\n",
        "  | OsebniPrevzem\n",
        "  | PoPosti of naslov\n",
        "  | HitraDostava of naslov * telefon\n",
        "\n",
        "type posiljka = {\n",
        "  naslovnik : string;\n",
        "  dostava : dostava\n",
        "}"
      ]
    },
    {
      "cell_type": "code",
      "execution_count": null,
      "metadata": {
        "tags": [
          "raises-exception"
        ],
        "vscode": {
          "languageId": "ocaml"
        }
      },
      "outputs": [],
      "source": [
        "{ naslovnik = \"Matija Pretnar\";\n",
        "  dostava = HitraDostava (\n",
        "    Telefon \"01 4766 600\",\n",
        "    Naslov \"Jadranska 21\"\n",
        "  )}"
      ]
    },
    {
      "cell_type": "markdown",
      "metadata": {},
      "source": [
        "## Algebrajski tipi"
      ]
    },
    {
      "cell_type": "markdown",
      "metadata": {},
      "source": [
        "Naštevni tipi so lahko tudi **rekurzivni**. Takim tipom pravimo algebrajski, v nekaterih primerih, ki jih bomo spoznali kasneje, pa tudi induktivni."
      ]
    },
    {
      "cell_type": "markdown",
      "metadata": {},
      "source": [
        "### Naravna števila"
      ]
    },
    {
      "cell_type": "markdown",
      "metadata": {},
      "source": [
        "Najenostavnejši primer induktivnega tipa so naravna števila. Predstavimo jih z naštevnim tipom s konstruktorjema `Nic` in `Naslednik`, pri čemer slednji sprejme en argument, ki je zopet naravno število."
      ]
    },
    {
      "cell_type": "code",
      "execution_count": null,
      "metadata": {
        "vscode": {
          "languageId": "ocaml"
        }
      },
      "outputs": [],
      "source": [
        "type naravno =\n",
        "  | Nic\n",
        "  | Naslednik of naravno"
      ]
    },
    {
      "cell_type": "markdown",
      "metadata": {},
      "source": [
        "Vsoto naravnih števil podamo z običajno rekurzivno definicijo:"
      ]
    },
    {
      "cell_type": "code",
      "execution_count": null,
      "metadata": {
        "vscode": {
          "languageId": "ocaml"
        }
      },
      "outputs": [],
      "source": [
        "let rec vsota m n =\n",
        "  match m with\n",
        "  | Nic -> n\n",
        "  | Naslednik m' -> Naslednik (vsota m' n)"
      ]
    },
    {
      "cell_type": "code",
      "execution_count": null,
      "metadata": {
        "vscode": {
          "languageId": "ocaml"
        }
      },
      "outputs": [],
      "source": [
        "let ena = Naslednik Nic\n",
        "let dva = vsota ena ena\n",
        "let stiri = vsota dva dva\n",
        "let sest = vsota stiri dva"
      ]
    },
    {
      "cell_type": "code",
      "execution_count": null,
      "metadata": {
        "vscode": {
          "languageId": "ocaml"
        }
      },
      "outputs": [],
      "source": [
        "vsota sest sest"
      ]
    },
    {
      "cell_type": "markdown",
      "metadata": {},
      "source": [
        "### Verižni seznami"
      ]
    },
    {
      "cell_type": "markdown",
      "metadata": {},
      "source": [
        "Še en znan primer induktivnega tipa so verižni seznami. Vsak seznam je bodisi prazen, bodisi sestavljen iz glave in repa:"
      ]
    },
    {
      "cell_type": "code",
      "execution_count": null,
      "metadata": {
        "vscode": {
          "languageId": "ocaml"
        }
      },
      "outputs": [],
      "source": [
        "type 'a seznam =\n",
        "  | Prazen\n",
        "  | Sestavljen of 'a * 'a seznam"
      ]
    },
    {
      "cell_type": "markdown",
      "metadata": {},
      "source": [
        "Sedaj tudi vidimo, zakaj `::` lahko uporabljamo v vzorcih - ni namreč običajna funkcija za sestavljanje seznamov, temveč konstruktor tipa seznamov."
      ]
    },
    {
      "cell_type": "markdown",
      "metadata": {
        "vscode": {
          "languageId": "ocaml"
        }
      },
      "source": [
        "### Aritmetični izrazi"
      ]
    },
    {
      "cell_type": "markdown",
      "metadata": {},
      "source": [
        "Induktivne tipe se pogosto uporablja za predstavitev izrazov določenega formalnega jezika. Na primer, aritmetične izraze gradimo iz števil ter aritmetičnih operacij. Take izraze bi lahko predstavili s tipom:"
      ]
    },
    {
      "cell_type": "code",
      "execution_count": null,
      "metadata": {
        "vscode": {
          "languageId": "ocaml"
        }
      },
      "outputs": [],
      "source": [
        "type izraz =\n",
        "  | Stevilo of int\n",
        "  | Plus of izraz * izraz\n",
        "  | Minus of izraz\n",
        "  | Krat of izraz * izraz"
      ]
    },
    {
      "cell_type": "markdown",
      "metadata": {
        "vscode": {
          "languageId": "ocaml"
        }
      },
      "source": [
        "Na primer, izrazu $-(5 \\times (2 + 7))$ bi ustrezala vrednost"
      ]
    },
    {
      "cell_type": "code",
      "execution_count": null,
      "metadata": {
        "vscode": {
          "languageId": "ocaml"
        }
      },
      "outputs": [],
      "source": [
        "let i = Minus (\n",
        "  Krat (Stevilo 5, Plus (Stevilo 2, Stevilo 7))\n",
        ")"
      ]
    },
    {
      "cell_type": "markdown",
      "metadata": {
        "vscode": {
          "languageId": "ocaml"
        }
      },
      "source": [
        "Za vajo lahko napišete rekurzivno funkcijo `izracunaj : izraz -> int`, ki dani izraz prevori v njegovo vrednost. Na primer, za zgornji izraz bi funkcija vrnila `-45`."
      ]
    },
    {
      "cell_type": "markdown",
      "metadata": {},
      "source": [
        "### Dvojiška drevesa"
      ]
    },
    {
      "cell_type": "markdown",
      "metadata": {
        "vscode": {
          "languageId": "ocaml"
        }
      },
      "source": [
        "Še en induktivni tip, ki ga bomo podrobneje spoznali v kratkem, pa so dvojiška drevesa. Dvojiško drevo je bodisi prazno bodisi ima koren, v katerem je shranjena vrednost, ter dva otroka, ki sta zopet drevesi, na primer (pri čemer praznih dreves ne kažemo):\n",
        "\n",
        "![](slike/09-iskalna-drevesa/avl-drevo.png)\n",
        "\n",
        "Tip dvojiških dreves podamo s tipom"
      ]
    },
    {
      "cell_type": "code",
      "execution_count": null,
      "metadata": {
        "vscode": {
          "languageId": "ocaml"
        }
      },
      "outputs": [],
      "source": [
        "type 'a drevo =\n",
        "  | Prazno\n",
        "  | Sestavljeno of 'a drevo * 'a * 'a drevo\n"
      ]
    },
    {
      "cell_type": "markdown",
      "metadata": {},
      "source": [
        "## Vaje"
      ]
    },
    {
      "cell_type": "markdown",
      "metadata": {},
      "source": [
        "### Kompleksna števila"
      ]
    }
  ],
  "metadata": {
    "celltoolbar": "Slideshow",
    "kernelspec": {
      "display_name": "OCaml 4.14",
      "language": "OCaml",
      "name": "ocaml-jupyter"
    },
    "language_info": {
      "codemirror_mode": "text/x-ocaml",
      "file_extension": ".ml",
      "mimetype": "text/x-ocaml",
      "name": "OCaml",
      "nbconverter_exporter": null,
      "pygments_lexer": "OCaml",
      "version": "4.14.2"
    }
  },
  "nbformat": 4,
  "nbformat_minor": 2
}
>>>>>>> 269fd6f972266c44583e66fa1ded898c5e0ee681
